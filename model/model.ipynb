{
 "metadata": {
  "language_info": {
   "codemirror_mode": {
    "name": "ipython",
    "version": 3
   },
   "file_extension": ".py",
   "mimetype": "text/x-python",
   "name": "python",
   "nbconvert_exporter": "python",
   "pygments_lexer": "ipython3",
   "version": "3.7.4-final"
  },
  "orig_nbformat": 2,
  "kernelspec": {
   "name": "python3",
   "display_name": "Python 3"
  }
 },
 "nbformat": 4,
 "nbformat_minor": 2,
 "cells": [
  {
   "cell_type": "code",
   "execution_count": 1,
   "metadata": {},
   "outputs": [],
   "source": [
    "k = 30\n",
    "l = 5\n",
    "numBatches = 128\n",
    "numStocksInSubset = 11\n",
    "numEpisodes = 1\n",
    "tranCostRate = 0.0025"
   ]
  },
  {
   "cell_type": "code",
   "execution_count": 2,
   "metadata": {},
   "outputs": [],
   "source": [
    "import pandas as pd\n",
    "import numpy as np\n",
    "import random\n",
    "\n",
    "import torch\n",
    "import torch.optim as optim\n",
    "\n",
    "from transformer import RATransformer"
   ]
  },
  {
   "cell_type": "code",
   "execution_count": 3,
   "metadata": {},
   "outputs": [
    {
     "output_type": "execute_result",
     "data": {
      "text/plain": [
       "          Ticker        Date        Open        High         Low       Close  \\\n",
       "0        0001.HK  2010-01-04    9.240858    9.286962    9.199347    9.222406   \n",
       "1        0001.HK  2010-01-05    9.342293    9.406862    9.277736    9.351518   \n",
       "2        0001.HK  2010-01-06    9.471419    9.471419    9.323854    9.360745   \n",
       "3        0001.HK  2010-01-07    9.360745    9.434527    9.296189    9.388410   \n",
       "4        0001.HK  2010-01-08    9.314628    9.443741    9.314628    9.416076   \n",
       "...          ...         ...         ...         ...         ...         ...   \n",
       "1140567     ZBRA  2020-10-16  289.959991  295.369995  289.239990  293.000000   \n",
       "1140568     ZBRA  2020-10-19  292.200012  299.359985  291.279999  291.570007   \n",
       "1140569     ZBRA  2020-10-20  293.239990  300.000000  292.649994  294.829987   \n",
       "1140570     ZBRA  2020-10-21  295.290009  300.329987  291.190002  291.859985   \n",
       "1140571     ZBRA  2020-10-22  293.799988  301.329987  292.250000  300.910004   \n",
       "\n",
       "          Adj Close        Volume  \n",
       "0          5.898139  5.826086e+05  \n",
       "1          5.980711  7.809818e+05  \n",
       "2          5.986612  7.584029e+05  \n",
       "3          6.004304  8.268949e+05  \n",
       "4          6.021997  1.041317e+06  \n",
       "...             ...           ...  \n",
       "1140567  293.000000  2.188000e+05  \n",
       "1140568  291.570007  3.476000e+05  \n",
       "1140569  294.829987  2.111000e+05  \n",
       "1140570  291.859985  2.331000e+05  \n",
       "1140571  300.910004  3.217000e+05  \n",
       "\n",
       "[1140572 rows x 8 columns]"
      ],
      "text/html": "<div>\n<style scoped>\n    .dataframe tbody tr th:only-of-type {\n        vertical-align: middle;\n    }\n\n    .dataframe tbody tr th {\n        vertical-align: top;\n    }\n\n    .dataframe thead th {\n        text-align: right;\n    }\n</style>\n<table border=\"1\" class=\"dataframe\">\n  <thead>\n    <tr style=\"text-align: right;\">\n      <th></th>\n      <th>Ticker</th>\n      <th>Date</th>\n      <th>Open</th>\n      <th>High</th>\n      <th>Low</th>\n      <th>Close</th>\n      <th>Adj Close</th>\n      <th>Volume</th>\n    </tr>\n  </thead>\n  <tbody>\n    <tr>\n      <td>0</td>\n      <td>0001.HK</td>\n      <td>2010-01-04</td>\n      <td>9.240858</td>\n      <td>9.286962</td>\n      <td>9.199347</td>\n      <td>9.222406</td>\n      <td>5.898139</td>\n      <td>5.826086e+05</td>\n    </tr>\n    <tr>\n      <td>1</td>\n      <td>0001.HK</td>\n      <td>2010-01-05</td>\n      <td>9.342293</td>\n      <td>9.406862</td>\n      <td>9.277736</td>\n      <td>9.351518</td>\n      <td>5.980711</td>\n      <td>7.809818e+05</td>\n    </tr>\n    <tr>\n      <td>2</td>\n      <td>0001.HK</td>\n      <td>2010-01-06</td>\n      <td>9.471419</td>\n      <td>9.471419</td>\n      <td>9.323854</td>\n      <td>9.360745</td>\n      <td>5.986612</td>\n      <td>7.584029e+05</td>\n    </tr>\n    <tr>\n      <td>3</td>\n      <td>0001.HK</td>\n      <td>2010-01-07</td>\n      <td>9.360745</td>\n      <td>9.434527</td>\n      <td>9.296189</td>\n      <td>9.388410</td>\n      <td>6.004304</td>\n      <td>8.268949e+05</td>\n    </tr>\n    <tr>\n      <td>4</td>\n      <td>0001.HK</td>\n      <td>2010-01-08</td>\n      <td>9.314628</td>\n      <td>9.443741</td>\n      <td>9.314628</td>\n      <td>9.416076</td>\n      <td>6.021997</td>\n      <td>1.041317e+06</td>\n    </tr>\n    <tr>\n      <td>...</td>\n      <td>...</td>\n      <td>...</td>\n      <td>...</td>\n      <td>...</td>\n      <td>...</td>\n      <td>...</td>\n      <td>...</td>\n      <td>...</td>\n    </tr>\n    <tr>\n      <td>1140567</td>\n      <td>ZBRA</td>\n      <td>2020-10-16</td>\n      <td>289.959991</td>\n      <td>295.369995</td>\n      <td>289.239990</td>\n      <td>293.000000</td>\n      <td>293.000000</td>\n      <td>2.188000e+05</td>\n    </tr>\n    <tr>\n      <td>1140568</td>\n      <td>ZBRA</td>\n      <td>2020-10-19</td>\n      <td>292.200012</td>\n      <td>299.359985</td>\n      <td>291.279999</td>\n      <td>291.570007</td>\n      <td>291.570007</td>\n      <td>3.476000e+05</td>\n    </tr>\n    <tr>\n      <td>1140569</td>\n      <td>ZBRA</td>\n      <td>2020-10-20</td>\n      <td>293.239990</td>\n      <td>300.000000</td>\n      <td>292.649994</td>\n      <td>294.829987</td>\n      <td>294.829987</td>\n      <td>2.111000e+05</td>\n    </tr>\n    <tr>\n      <td>1140570</td>\n      <td>ZBRA</td>\n      <td>2020-10-21</td>\n      <td>295.290009</td>\n      <td>300.329987</td>\n      <td>291.190002</td>\n      <td>291.859985</td>\n      <td>291.859985</td>\n      <td>2.331000e+05</td>\n    </tr>\n    <tr>\n      <td>1140571</td>\n      <td>ZBRA</td>\n      <td>2020-10-22</td>\n      <td>293.799988</td>\n      <td>301.329987</td>\n      <td>292.250000</td>\n      <td>300.910004</td>\n      <td>300.910004</td>\n      <td>3.217000e+05</td>\n    </tr>\n  </tbody>\n</table>\n<p>1140572 rows × 8 columns</p>\n</div>"
     },
     "metadata": {},
     "execution_count": 3
    }
   ],
   "source": [
    "df = pd.read_csv(\"whole_selected.csv\")\n",
    "df"
   ]
  },
  {
   "cell_type": "code",
   "execution_count": 4,
   "metadata": {},
   "outputs": [],
   "source": [
    "df = df[[\"Ticker\", \"Date\", \"Open\", \"High\", \"Low\", \"Close\"]]"
   ]
  },
  {
   "cell_type": "code",
   "execution_count": 5,
   "metadata": {},
   "outputs": [
    {
     "output_type": "stream",
     "name": "stdout",
     "text": [
      "Number of tickers: 422\n"
     ]
    },
    {
     "output_type": "execute_result",
     "data": {
      "text/plain": [
       "         Ticker        Date        Open        High         Low       Close\n",
       "0             0  2010-01-04    9.240858    9.286962    9.199347    9.222406\n",
       "1             0  2010-01-05    9.342293    9.406862    9.277736    9.351518\n",
       "2             0  2010-01-06    9.471419    9.471419    9.323854    9.360745\n",
       "3             0  2010-01-07    9.360745    9.434527    9.296189    9.388410\n",
       "4             0  2010-01-08    9.314628    9.443741    9.314628    9.416076\n",
       "...         ...         ...         ...         ...         ...         ...\n",
       "1140567     421  2020-10-16  289.959991  295.369995  289.239990  293.000000\n",
       "1140568     421  2020-10-19  292.200012  299.359985  291.279999  291.570007\n",
       "1140569     421  2020-10-20  293.239990  300.000000  292.649994  294.829987\n",
       "1140570     421  2020-10-21  295.290009  300.329987  291.190002  291.859985\n",
       "1140571     421  2020-10-22  293.799988  301.329987  292.250000  300.910004\n",
       "\n",
       "[1140572 rows x 6 columns]"
      ],
      "text/html": "<div>\n<style scoped>\n    .dataframe tbody tr th:only-of-type {\n        vertical-align: middle;\n    }\n\n    .dataframe tbody tr th {\n        vertical-align: top;\n    }\n\n    .dataframe thead th {\n        text-align: right;\n    }\n</style>\n<table border=\"1\" class=\"dataframe\">\n  <thead>\n    <tr style=\"text-align: right;\">\n      <th></th>\n      <th>Ticker</th>\n      <th>Date</th>\n      <th>Open</th>\n      <th>High</th>\n      <th>Low</th>\n      <th>Close</th>\n    </tr>\n  </thead>\n  <tbody>\n    <tr>\n      <td>0</td>\n      <td>0</td>\n      <td>2010-01-04</td>\n      <td>9.240858</td>\n      <td>9.286962</td>\n      <td>9.199347</td>\n      <td>9.222406</td>\n    </tr>\n    <tr>\n      <td>1</td>\n      <td>0</td>\n      <td>2010-01-05</td>\n      <td>9.342293</td>\n      <td>9.406862</td>\n      <td>9.277736</td>\n      <td>9.351518</td>\n    </tr>\n    <tr>\n      <td>2</td>\n      <td>0</td>\n      <td>2010-01-06</td>\n      <td>9.471419</td>\n      <td>9.471419</td>\n      <td>9.323854</td>\n      <td>9.360745</td>\n    </tr>\n    <tr>\n      <td>3</td>\n      <td>0</td>\n      <td>2010-01-07</td>\n      <td>9.360745</td>\n      <td>9.434527</td>\n      <td>9.296189</td>\n      <td>9.388410</td>\n    </tr>\n    <tr>\n      <td>4</td>\n      <td>0</td>\n      <td>2010-01-08</td>\n      <td>9.314628</td>\n      <td>9.443741</td>\n      <td>9.314628</td>\n      <td>9.416076</td>\n    </tr>\n    <tr>\n      <td>...</td>\n      <td>...</td>\n      <td>...</td>\n      <td>...</td>\n      <td>...</td>\n      <td>...</td>\n      <td>...</td>\n    </tr>\n    <tr>\n      <td>1140567</td>\n      <td>421</td>\n      <td>2020-10-16</td>\n      <td>289.959991</td>\n      <td>295.369995</td>\n      <td>289.239990</td>\n      <td>293.000000</td>\n    </tr>\n    <tr>\n      <td>1140568</td>\n      <td>421</td>\n      <td>2020-10-19</td>\n      <td>292.200012</td>\n      <td>299.359985</td>\n      <td>291.279999</td>\n      <td>291.570007</td>\n    </tr>\n    <tr>\n      <td>1140569</td>\n      <td>421</td>\n      <td>2020-10-20</td>\n      <td>293.239990</td>\n      <td>300.000000</td>\n      <td>292.649994</td>\n      <td>294.829987</td>\n    </tr>\n    <tr>\n      <td>1140570</td>\n      <td>421</td>\n      <td>2020-10-21</td>\n      <td>295.290009</td>\n      <td>300.329987</td>\n      <td>291.190002</td>\n      <td>291.859985</td>\n    </tr>\n    <tr>\n      <td>1140571</td>\n      <td>421</td>\n      <td>2020-10-22</td>\n      <td>293.799988</td>\n      <td>301.329987</td>\n      <td>292.250000</td>\n      <td>300.910004</td>\n    </tr>\n  </tbody>\n</table>\n<p>1140572 rows × 6 columns</p>\n</div>"
     },
     "metadata": {},
     "execution_count": 5
    }
   ],
   "source": [
    "tickers = df[\"Ticker\"].unique()\n",
    "numTickers = len(tickers)\n",
    "print(\"Number of tickers: \" + str(numTickers))\n",
    "tickersDict = {}\n",
    "for index, ticker in enumerate(tickers):\n",
    "    tickersDict[ticker] = index\n",
    "\n",
    "df[\"Ticker\"] = df[\"Ticker\"].apply(lambda ticker: tickersDict[ticker])\n",
    "df"
   ]
  },
  {
   "cell_type": "code",
   "execution_count": 6,
   "metadata": {},
   "outputs": [
    {
     "output_type": "stream",
     "name": "stdout",
     "text": [
      "Number of valid dates: 1843\n"
     ]
    }
   ],
   "source": [
    "datesValueCounts = df[\"Date\"].value_counts()\n",
    "validDates = datesValueCounts.loc[datesValueCounts == max(datesValueCounts)].index\n",
    "validDates = list(validDates.sort_values())\n",
    "print(\"Number of valid dates: \" + str(len(validDates)))"
   ]
  },
  {
   "cell_type": "code",
   "execution_count": 7,
   "metadata": {
    "tags": []
   },
   "outputs": [
    {
     "output_type": "stream",
     "name": "stdout",
     "text": [
      "['2010-12-22', '2011-01-11', '2011-01-12', '2011-06-29', '2011-06-30', '2012-06-18', '2012-06-19', '2012-06-20', '2012-06-21', '2012-06-22', '2012-06-25', '2012-06-26', '2012-06-27', '2012-06-28', '2012-06-29', '2012-07-03', '2012-07-05', '2012-07-06', '2012-07-09', '2012-07-10', '2012-07-11', '2012-07-12', '2012-07-13', '2012-07-17', '2012-07-18', '2012-07-19', '2012-07-20', '2012-07-23', '2012-07-24', '2012-07-25', '2012-07-26', '2012-07-27', '2012-07-30', '2012-07-31', '2012-08-01', '2012-08-02', '2012-08-03', '2012-08-07', '2012-08-08', '2012-08-09', '2012-08-10', '2012-08-13', '2012-08-14', '2012-08-15', '2012-08-16', '2012-08-17', '2012-08-20', '2012-08-21', '2012-08-22', '2012-08-23', '2012-08-24', '2012-08-28', '2012-08-29', '2012-08-30', '2012-08-31', '2012-09-04', '2012-09-05', '2012-09-06', '2012-09-07', '2012-09-10', '2012-09-11', '2012-09-12', '2012-09-13', '2012-09-14', '2012-09-18', '2012-09-19', '2012-09-20', '2012-09-21', '2012-09-24', '2012-09-25', '2012-09-26', '2012-09-27', '2012-09-28', '2012-10-03', '2012-10-04', '2012-10-05', '2012-10-09', '2012-10-10', '2012-10-11', '2012-10-12', '2012-10-15', '2012-10-16', '2012-10-17', '2012-10-18', '2012-10-19', '2012-10-22', '2012-10-24', '2012-10-25', '2012-10-26', '2012-10-31', '2012-11-01', '2012-11-02', '2012-11-05', '2012-11-06', '2012-11-07', '2012-11-08', '2012-11-09', '2012-11-12', '2012-11-13', '2012-11-14']\n"
     ]
    }
   ],
   "source": [
    "print(validDates[:100])\n",
    "validDates = validDates[5:]"
   ]
  },
  {
   "cell_type": "code",
   "execution_count": 8,
   "metadata": {},
   "outputs": [],
   "source": [
    "df = df[df[\"Date\"].isin(validDates)]"
   ]
  },
  {
   "cell_type": "code",
   "execution_count": 9,
   "metadata": {},
   "outputs": [
    {
     "output_type": "stream",
     "name": "stdout",
     "text": [
      "Number of valid dates: 1838\n"
     ]
    },
    {
     "output_type": "execute_result",
     "data": {
      "text/plain": [
       "         Ticker  Date        Open        High         Low       Close\n",
       "603           0     0    8.646004    8.682895    8.553782    8.563008\n",
       "604           0     1    8.581447    8.618338    8.470786    8.539949\n",
       "605           0     2    8.586067    8.613732    8.521510    8.572234\n",
       "606           0     3    8.567615    8.599899    8.503059    8.530723\n",
       "607           0     4    8.530723    8.530723    8.378551    8.424669\n",
       "...         ...   ...         ...         ...         ...         ...\n",
       "1140529     421  1833  279.369995  284.549988  274.359985  275.390015\n",
       "1140530     421  1834  276.220001  281.190002  274.450012  277.859985\n",
       "1140531     421  1835  278.209991  286.170013  278.010010  284.739990\n",
       "1140532     421  1836  287.230011  287.709991  275.529999  277.260010\n",
       "1140533     421  1837  278.299988  280.500000  277.700012  280.160004\n",
       "\n",
       "[775636 rows x 6 columns]"
      ],
      "text/html": "<div>\n<style scoped>\n    .dataframe tbody tr th:only-of-type {\n        vertical-align: middle;\n    }\n\n    .dataframe tbody tr th {\n        vertical-align: top;\n    }\n\n    .dataframe thead th {\n        text-align: right;\n    }\n</style>\n<table border=\"1\" class=\"dataframe\">\n  <thead>\n    <tr style=\"text-align: right;\">\n      <th></th>\n      <th>Ticker</th>\n      <th>Date</th>\n      <th>Open</th>\n      <th>High</th>\n      <th>Low</th>\n      <th>Close</th>\n    </tr>\n  </thead>\n  <tbody>\n    <tr>\n      <td>603</td>\n      <td>0</td>\n      <td>0</td>\n      <td>8.646004</td>\n      <td>8.682895</td>\n      <td>8.553782</td>\n      <td>8.563008</td>\n    </tr>\n    <tr>\n      <td>604</td>\n      <td>0</td>\n      <td>1</td>\n      <td>8.581447</td>\n      <td>8.618338</td>\n      <td>8.470786</td>\n      <td>8.539949</td>\n    </tr>\n    <tr>\n      <td>605</td>\n      <td>0</td>\n      <td>2</td>\n      <td>8.586067</td>\n      <td>8.613732</td>\n      <td>8.521510</td>\n      <td>8.572234</td>\n    </tr>\n    <tr>\n      <td>606</td>\n      <td>0</td>\n      <td>3</td>\n      <td>8.567615</td>\n      <td>8.599899</td>\n      <td>8.503059</td>\n      <td>8.530723</td>\n    </tr>\n    <tr>\n      <td>607</td>\n      <td>0</td>\n      <td>4</td>\n      <td>8.530723</td>\n      <td>8.530723</td>\n      <td>8.378551</td>\n      <td>8.424669</td>\n    </tr>\n    <tr>\n      <td>...</td>\n      <td>...</td>\n      <td>...</td>\n      <td>...</td>\n      <td>...</td>\n      <td>...</td>\n      <td>...</td>\n    </tr>\n    <tr>\n      <td>1140529</td>\n      <td>421</td>\n      <td>1833</td>\n      <td>279.369995</td>\n      <td>284.549988</td>\n      <td>274.359985</td>\n      <td>275.390015</td>\n    </tr>\n    <tr>\n      <td>1140530</td>\n      <td>421</td>\n      <td>1834</td>\n      <td>276.220001</td>\n      <td>281.190002</td>\n      <td>274.450012</td>\n      <td>277.859985</td>\n    </tr>\n    <tr>\n      <td>1140531</td>\n      <td>421</td>\n      <td>1835</td>\n      <td>278.209991</td>\n      <td>286.170013</td>\n      <td>278.010010</td>\n      <td>284.739990</td>\n    </tr>\n    <tr>\n      <td>1140532</td>\n      <td>421</td>\n      <td>1836</td>\n      <td>287.230011</td>\n      <td>287.709991</td>\n      <td>275.529999</td>\n      <td>277.260010</td>\n    </tr>\n    <tr>\n      <td>1140533</td>\n      <td>421</td>\n      <td>1837</td>\n      <td>278.299988</td>\n      <td>280.500000</td>\n      <td>277.700012</td>\n      <td>280.160004</td>\n    </tr>\n  </tbody>\n</table>\n<p>775636 rows × 6 columns</p>\n</div>"
     },
     "metadata": {},
     "execution_count": 9
    }
   ],
   "source": [
    "dates = df[\"Date\"].unique()\n",
    "numDates = len(dates)\n",
    "print(\"Number of valid dates: \" + str(numDates))\n",
    "datesDict = {}\n",
    "for index, date in enumerate(dates):\n",
    "    datesDict[date] = index\n",
    "\n",
    "df[\"Date\"] = df[\"Date\"].apply(lambda date: datesDict[date])\n",
    "df"
   ]
  },
  {
   "cell_type": "code",
   "execution_count": 10,
   "metadata": {},
   "outputs": [
    {
     "output_type": "execute_result",
     "data": {
      "text/plain": [
       "         Ticker  Date        Open        High         Low       Close\n",
       "603           0     0    8.646004    8.682895    8.553782    8.563008\n",
       "604           0     1    8.581447    8.618338    8.470786    8.539949\n",
       "605           0     2    8.586067    8.613732    8.521510    8.572234\n",
       "606           0     3    8.567615    8.599899    8.503059    8.530723\n",
       "607           0     4    8.530723    8.530723    8.378551    8.424669\n",
       "...         ...   ...         ...         ...         ...         ...\n",
       "1140529     421  1833  279.369995  284.549988  274.359985  275.390015\n",
       "1140530     421  1834  276.220001  281.190002  274.450012  277.859985\n",
       "1140531     421  1835  278.209991  286.170013  278.010010  284.739990\n",
       "1140532     421  1836  287.230011  287.709991  275.529999  277.260010\n",
       "1140533     421  1837  278.299988  280.500000  277.700012  280.160004\n",
       "\n",
       "[775636 rows x 6 columns]"
      ],
      "text/html": "<div>\n<style scoped>\n    .dataframe tbody tr th:only-of-type {\n        vertical-align: middle;\n    }\n\n    .dataframe tbody tr th {\n        vertical-align: top;\n    }\n\n    .dataframe thead th {\n        text-align: right;\n    }\n</style>\n<table border=\"1\" class=\"dataframe\">\n  <thead>\n    <tr style=\"text-align: right;\">\n      <th></th>\n      <th>Ticker</th>\n      <th>Date</th>\n      <th>Open</th>\n      <th>High</th>\n      <th>Low</th>\n      <th>Close</th>\n    </tr>\n  </thead>\n  <tbody>\n    <tr>\n      <td>603</td>\n      <td>0</td>\n      <td>0</td>\n      <td>8.646004</td>\n      <td>8.682895</td>\n      <td>8.553782</td>\n      <td>8.563008</td>\n    </tr>\n    <tr>\n      <td>604</td>\n      <td>0</td>\n      <td>1</td>\n      <td>8.581447</td>\n      <td>8.618338</td>\n      <td>8.470786</td>\n      <td>8.539949</td>\n    </tr>\n    <tr>\n      <td>605</td>\n      <td>0</td>\n      <td>2</td>\n      <td>8.586067</td>\n      <td>8.613732</td>\n      <td>8.521510</td>\n      <td>8.572234</td>\n    </tr>\n    <tr>\n      <td>606</td>\n      <td>0</td>\n      <td>3</td>\n      <td>8.567615</td>\n      <td>8.599899</td>\n      <td>8.503059</td>\n      <td>8.530723</td>\n    </tr>\n    <tr>\n      <td>607</td>\n      <td>0</td>\n      <td>4</td>\n      <td>8.530723</td>\n      <td>8.530723</td>\n      <td>8.378551</td>\n      <td>8.424669</td>\n    </tr>\n    <tr>\n      <td>...</td>\n      <td>...</td>\n      <td>...</td>\n      <td>...</td>\n      <td>...</td>\n      <td>...</td>\n      <td>...</td>\n    </tr>\n    <tr>\n      <td>1140529</td>\n      <td>421</td>\n      <td>1833</td>\n      <td>279.369995</td>\n      <td>284.549988</td>\n      <td>274.359985</td>\n      <td>275.390015</td>\n    </tr>\n    <tr>\n      <td>1140530</td>\n      <td>421</td>\n      <td>1834</td>\n      <td>276.220001</td>\n      <td>281.190002</td>\n      <td>274.450012</td>\n      <td>277.859985</td>\n    </tr>\n    <tr>\n      <td>1140531</td>\n      <td>421</td>\n      <td>1835</td>\n      <td>278.209991</td>\n      <td>286.170013</td>\n      <td>278.010010</td>\n      <td>284.739990</td>\n    </tr>\n    <tr>\n      <td>1140532</td>\n      <td>421</td>\n      <td>1836</td>\n      <td>287.230011</td>\n      <td>287.709991</td>\n      <td>275.529999</td>\n      <td>277.260010</td>\n    </tr>\n    <tr>\n      <td>1140533</td>\n      <td>421</td>\n      <td>1837</td>\n      <td>278.299988</td>\n      <td>280.500000</td>\n      <td>277.700012</td>\n      <td>280.160004</td>\n    </tr>\n  </tbody>\n</table>\n<p>775636 rows × 6 columns</p>\n</div>"
     },
     "metadata": {},
     "execution_count": 10
    }
   ],
   "source": [
    "df = df.sort_values(by=[\"Ticker\", \"Date\"])\n",
    "df"
   ]
  },
  {
   "cell_type": "code",
   "execution_count": 11,
   "metadata": {},
   "outputs": [
    {
     "output_type": "execute_result",
     "data": {
      "text/plain": [
       "array([[[  8.64600362,   8.68289541,   8.55378205,   8.56300844],\n",
       "        [  8.58144744,   8.61833823,   8.47078587,   8.53994935],\n",
       "        [  8.58606654,   8.61373193,   8.52151035,   8.57223384],\n",
       "        ...,\n",
       "        [  6.6066222 ,   6.62597725,   6.54855609,   6.58726667],\n",
       "        [  6.54210441,   6.59371835,   6.51629719,   6.52274888],\n",
       "        [  6.52274888,   6.6388811 ,   6.51629719,   6.53565273]],\n",
       "\n",
       "       [[  8.30989207,   8.3292476 ,   8.25827763,   8.30343989],\n",
       "        [  8.37440986,   8.38731322,   8.32279543,   8.37440986],\n",
       "        [  8.42602429,   8.42602429,   8.35505432,   8.38731322],\n",
       "        ...,\n",
       "        [  9.78734915,   9.81960805,   9.71638017,   9.7421869 ],\n",
       "        [  9.7421869 ,   9.79380133,   9.69702464,   9.709928  ],\n",
       "        [  9.78734915,   9.82606022,   9.709928  ,   9.76154243]],\n",
       "\n",
       "       [[  1.10050457,   1.10712534,   1.09255848,   1.10182843],\n",
       "        [  1.10580148,   1.10580148,   1.08593636,   1.08726157],\n",
       "        [  1.09123462,   1.10050457,   1.08858555,   1.09123462],\n",
       "        ...,\n",
       "        [  1.43745649,   1.44519856,   1.42713366,   1.43229508],\n",
       "        [  1.43487572,   1.44261791,   1.42197224,   1.42455289],\n",
       "        [  1.42197224,   1.45035998,   1.41939147,   1.44003714]],\n",
       "\n",
       "       ...,\n",
       "\n",
       "       [[ 20.36890602,  20.55335999,  20.23715401,  20.31620598],\n",
       "        [ 20.42160797,  20.685112  ,  20.28985596,  20.57971001],\n",
       "        [ 20.52700996,  20.60606003,  20.26350403,  20.57971001],\n",
       "        ...,\n",
       "        [ 18.75      ,  19.20999908,  18.72999954,  18.79000092],\n",
       "        [ 18.80999947,  19.15999985,  18.71999931,  19.10000038],\n",
       "        [ 19.11000061,  19.56999969,  19.09000015,  19.53000069]],\n",
       "\n",
       "       [[ 12.1269236 ,  12.79767821,  12.1040572 ,  12.76718871],\n",
       "        [ 12.78243346,  12.78243346,  12.5613889 ,  12.78243346],\n",
       "        [ 12.57663365,  12.79005584,  12.32510104,  12.46992328],\n",
       "        ...,\n",
       "        [  5.90720671,   6.16636171,   5.89958434,   6.16636171],\n",
       "        [  6.24258329,   6.25020567,   5.80049599,   5.87671793],\n",
       "        [  5.96818427,   6.12825055,   5.93769549,   6.09776177]],\n",
       "\n",
       "       [[ 32.02000046,  32.65000153,  31.79000092,  32.61000061],\n",
       "        [ 32.75999832,  33.04000092,  32.45000076,  32.79999924],\n",
       "        [ 32.79000092,  33.40999985,  32.79000092,  33.20999908],\n",
       "        ...,\n",
       "        [278.20999146, 286.17001343, 278.01000977, 284.73999023],\n",
       "        [287.23001099, 287.70999146, 275.52999878, 277.26000977],\n",
       "        [278.29998779, 280.5       , 277.70001221, 280.16000366]]])"
      ]
     },
     "metadata": {},
     "execution_count": 11
    }
   ],
   "source": [
    "entries = df[[\"Open\", \"High\", \"Low\", \"Close\"]].to_numpy()\n",
    "entryArrays = entries.reshape((numTickers, numDates, 4)) # shape: (numStocks: m, numDates: T, numFeatures)\n",
    "entryArrays"
   ]
  },
  {
   "cell_type": "code",
   "execution_count": 12,
   "metadata": {},
   "outputs": [
    {
     "output_type": "execute_result",
     "data": {
      "text/plain": [
       "array([[0.99730713, 1.00854706, 0.98677938, ..., 1.01297014, 1.00119406,\n",
       "        1.00582639],\n",
       "       [1.00378041, 1.00154081, 1.00365418, ..., 1.        , 0.97555159,\n",
       "        1.0125    ],\n",
       "       [0.99515752, 0.99461541, 0.99514471, ..., 0.97567225, 0.95599021,\n",
       "        0.9728998 ],\n",
       "       ...,\n",
       "       [0.9893411 , 0.99276788, 0.98579042, ..., 0.99365421, 1.03452685,\n",
       "        1.02476069],\n",
       "       [0.99020568, 0.99668874, 0.99459456, ..., 1.01649811, 0.95302842,\n",
       "        0.97373049],\n",
       "       [1.00197828, 1.00531563, 1.01086955, ..., 1.0225131 , 1.03761348,\n",
       "        1.01045947]])"
      ]
     },
     "metadata": {},
     "execution_count": 12
    }
   ],
   "source": [
    "entryArraysTransposed = entryArrays.T # shape: (numFeatures, numDates: T, numStocks: m)\n",
    "entryArraysClosingPrices = entryArraysTransposed[3] # shape: (numDates: T, numStocks: m)\n",
    "inflations = np.array([entryArraysClosingPrices[i + 1] / entryArraysClosingPrices[i] for i in range(len(entryArraysClosingPrices) - 1)]) # shape: (numDates-1: T-1, numStocks: m)\n",
    "inflations # percentage change from period i to (i+1)"
   ]
  },
  {
   "cell_type": "code",
   "execution_count": 13,
   "metadata": {},
   "outputs": [],
   "source": [
    "def getTotalReward(ys, actions):\n",
    "    reward = 0\n",
    "    n = len(actions)\n",
    "\n",
    "    assert len(ys) == n\n",
    "    assert len(actions[0]) == numStocksInSubset\n",
    "    assert len(ys) == numStocksInSubset\n",
    "\n",
    "    originalWeights = actions\n",
    "    inflatedWeights = []\n",
    "    updatedWeights = [np.zeros(len(actions[0]))]\n",
    "    for index, currWeights in enumerate(actions):\n",
    "        inflatedWeights.append(currWeights * ys[index])\n",
    "        updatedWeights.append(inflatedWeights[-1] / (currWeights @ ys[index]))\n",
    "\n",
    "    for index in range(n):\n",
    "        tranCost = tranCostRate * abs(originalWeights[index] - updatedWeights[index]).sum()\n",
    "        reward += np.log(inflatedWeights[index] * (1 - tranCost))\n",
    "    \n",
    "    reward /= n\n",
    "\n",
    "    return reward"
   ]
  },
  {
   "cell_type": "code",
   "execution_count": 14,
   "metadata": {},
   "outputs": [],
   "source": [
    "def runModel(modelInstance, encInput, decInput, prevAction):\n",
    "    return modelInstance.forward(encInput, decInput, prevAction)"
   ]
  },
  {
   "cell_type": "code",
   "execution_count": 15,
   "metadata": {},
   "outputs": [
    {
     "output_type": "stream",
     "name": "stdout",
     "text": [
      "0\n"
     ]
    },
    {
     "output_type": "error",
     "ename": "AssertionError",
     "evalue": "Torch not compiled with CUDA enabled",
     "traceback": [
      "\u001b[0;31m---------------------------------------------------------------------------\u001b[0m",
      "\u001b[0;31mAssertionError\u001b[0m                            Traceback (most recent call last)",
      "\u001b[0;32m<ipython-input-15-f45bbef5a393>\u001b[0m in \u001b[0;36m<module>\u001b[0;34m\u001b[0m\n\u001b[1;32m     11\u001b[0m         \u001b[0mdecInput\u001b[0m \u001b[0;34m=\u001b[0m \u001b[0;34m[\u001b[0m\u001b[0;34m[\u001b[0m\u001b[0mpriceSeries\u001b[0m\u001b[0;34m[\u001b[0m\u001b[0mi\u001b[0m\u001b[0;34m+\u001b[0m\u001b[0mk\u001b[0m\u001b[0;34m-\u001b[0m\u001b[0ml\u001b[0m\u001b[0;34m:\u001b[0m\u001b[0mi\u001b[0m\u001b[0;34m+\u001b[0m\u001b[0mk\u001b[0m\u001b[0;34m]\u001b[0m \u001b[0;32mfor\u001b[0m \u001b[0mpriceSeries\u001b[0m \u001b[0;32min\u001b[0m \u001b[0mentryArrays\u001b[0m\u001b[0;34m[\u001b[0m\u001b[0mrandomSubset\u001b[0m\u001b[0;34m]\u001b[0m\u001b[0;34m]\u001b[0m \u001b[0;32mfor\u001b[0m \u001b[0mrandomSubset\u001b[0m \u001b[0;32min\u001b[0m \u001b[0mrandomSubsets\u001b[0m\u001b[0;34m]\u001b[0m \u001b[0;31m# shape: (numBatches, numStocksInSubset, localContextLength: l, numFeatures)\u001b[0m\u001b[0;34m\u001b[0m\u001b[0;34m\u001b[0m\u001b[0m\n\u001b[1;32m     12\u001b[0m         \u001b[0mdecInput\u001b[0m \u001b[0;34m=\u001b[0m \u001b[0mtorch\u001b[0m\u001b[0;34m.\u001b[0m\u001b[0mTensor\u001b[0m\u001b[0;34m(\u001b[0m\u001b[0mdecInput\u001b[0m\u001b[0;34m)\u001b[0m\u001b[0;34m\u001b[0m\u001b[0;34m\u001b[0m\u001b[0m\n\u001b[0;32m---> 13\u001b[0;31m         \u001b[0mactions\u001b[0m\u001b[0;34m.\u001b[0m\u001b[0mappend\u001b[0m\u001b[0;34m(\u001b[0m\u001b[0mrunModel\u001b[0m\u001b[0;34m(\u001b[0m\u001b[0mmodelInstance\u001b[0m\u001b[0;34m,\u001b[0m \u001b[0mencInput\u001b[0m\u001b[0;34m,\u001b[0m \u001b[0mdecInput\u001b[0m\u001b[0;34m,\u001b[0m \u001b[0mactions\u001b[0m\u001b[0;34m[\u001b[0m\u001b[0;34m-\u001b[0m\u001b[0;36m1\u001b[0m\u001b[0;34m]\u001b[0m\u001b[0;34m)\u001b[0m\u001b[0;34m)\u001b[0m\u001b[0;34m\u001b[0m\u001b[0;34m\u001b[0m\u001b[0m\n\u001b[0m\u001b[1;32m     14\u001b[0m     \u001b[0mtotalReward\u001b[0m \u001b[0;34m=\u001b[0m \u001b[0mgetTotalReward\u001b[0m\u001b[0;34m(\u001b[0m\u001b[0mys\u001b[0m\u001b[0;34m,\u001b[0m \u001b[0mactions\u001b[0m\u001b[0;34m)\u001b[0m\u001b[0;34m\u001b[0m\u001b[0;34m\u001b[0m\u001b[0m\n\u001b[1;32m     15\u001b[0m \u001b[0;34m\u001b[0m\u001b[0m\n",
      "\u001b[0;32m<ipython-input-14-69707822d371>\u001b[0m in \u001b[0;36mrunModel\u001b[0;34m(modelInstance, encInput, decInput, prevAction)\u001b[0m\n\u001b[1;32m      1\u001b[0m \u001b[0;32mdef\u001b[0m \u001b[0mrunModel\u001b[0m\u001b[0;34m(\u001b[0m\u001b[0mmodelInstance\u001b[0m\u001b[0;34m,\u001b[0m \u001b[0mencInput\u001b[0m\u001b[0;34m,\u001b[0m \u001b[0mdecInput\u001b[0m\u001b[0;34m,\u001b[0m \u001b[0mprevAction\u001b[0m\u001b[0;34m)\u001b[0m\u001b[0;34m:\u001b[0m\u001b[0;34m\u001b[0m\u001b[0;34m\u001b[0m\u001b[0m\n\u001b[0;32m----> 2\u001b[0;31m     \u001b[0;32mreturn\u001b[0m \u001b[0mmodelInstance\u001b[0m\u001b[0;34m.\u001b[0m\u001b[0mforward\u001b[0m\u001b[0;34m(\u001b[0m\u001b[0mencInput\u001b[0m\u001b[0;34m,\u001b[0m \u001b[0mdecInput\u001b[0m\u001b[0;34m,\u001b[0m \u001b[0mprevAction\u001b[0m\u001b[0;34m)\u001b[0m\u001b[0;34m\u001b[0m\u001b[0;34m\u001b[0m\u001b[0m\n\u001b[0m",
      "\u001b[0;32m~/Desktop/COMP5331_Project/model/transformer.py\u001b[0m in \u001b[0;36mforward\u001b[0;34m(self, enc_input, dec_input, previous, enc_mask, dec_mask)\u001b[0m\n\u001b[1;32m     44\u001b[0m \u001b[0;31m#         enc_input = enc_input/enc_input[:,:,-1:,0:1]  # b, m, t, d_feature\u001b[0m\u001b[0;34m\u001b[0m\u001b[0;34m\u001b[0m\u001b[0;34m\u001b[0m\u001b[0m\n\u001b[1;32m     45\u001b[0m         \u001b[0menc_input\u001b[0m \u001b[0;34m=\u001b[0m \u001b[0mself\u001b[0m\u001b[0;34m.\u001b[0m\u001b[0memb_enc\u001b[0m\u001b[0;34m(\u001b[0m\u001b[0menc_input\u001b[0m\u001b[0;34m)\u001b[0m  \u001b[0;31m# b, m, t, d_feature\u001b[0m\u001b[0;34m\u001b[0m\u001b[0;34m\u001b[0m\u001b[0m\n\u001b[0;32m---> 46\u001b[0;31m         \u001b[0menc_output\u001b[0m \u001b[0;34m=\u001b[0m \u001b[0mself\u001b[0m\u001b[0;34m.\u001b[0m\u001b[0mencoder\u001b[0m\u001b[0;34m(\u001b[0m\u001b[0menc_input\u001b[0m\u001b[0;34m,\u001b[0m \u001b[0menc_mask\u001b[0m\u001b[0;34m)\u001b[0m\u001b[0;34m\u001b[0m\u001b[0;34m\u001b[0m\u001b[0m\n\u001b[0m\u001b[1;32m     47\u001b[0m \u001b[0;34m\u001b[0m\u001b[0m\n\u001b[1;32m     48\u001b[0m \u001b[0;31m#         dec_input = dec_input/dec_input[:,:,-1:,0:1]  # b, m, t, d_feature\u001b[0m\u001b[0;34m\u001b[0m\u001b[0;34m\u001b[0m\u001b[0;34m\u001b[0m\u001b[0m\n",
      "\u001b[0;32m~/opt/anaconda3/lib/python3.7/site-packages/torch/nn/modules/module.py\u001b[0m in \u001b[0;36m__call__\u001b[0;34m(self, *input, **kwargs)\u001b[0m\n\u001b[1;32m    530\u001b[0m             \u001b[0mresult\u001b[0m \u001b[0;34m=\u001b[0m \u001b[0mself\u001b[0m\u001b[0;34m.\u001b[0m\u001b[0m_slow_forward\u001b[0m\u001b[0;34m(\u001b[0m\u001b[0;34m*\u001b[0m\u001b[0minput\u001b[0m\u001b[0;34m,\u001b[0m \u001b[0;34m**\u001b[0m\u001b[0mkwargs\u001b[0m\u001b[0;34m)\u001b[0m\u001b[0;34m\u001b[0m\u001b[0;34m\u001b[0m\u001b[0m\n\u001b[1;32m    531\u001b[0m         \u001b[0;32melse\u001b[0m\u001b[0;34m:\u001b[0m\u001b[0;34m\u001b[0m\u001b[0;34m\u001b[0m\u001b[0m\n\u001b[0;32m--> 532\u001b[0;31m             \u001b[0mresult\u001b[0m \u001b[0;34m=\u001b[0m \u001b[0mself\u001b[0m\u001b[0;34m.\u001b[0m\u001b[0mforward\u001b[0m\u001b[0;34m(\u001b[0m\u001b[0;34m*\u001b[0m\u001b[0minput\u001b[0m\u001b[0;34m,\u001b[0m \u001b[0;34m**\u001b[0m\u001b[0mkwargs\u001b[0m\u001b[0;34m)\u001b[0m\u001b[0;34m\u001b[0m\u001b[0;34m\u001b[0m\u001b[0m\n\u001b[0m\u001b[1;32m    533\u001b[0m         \u001b[0;32mfor\u001b[0m \u001b[0mhook\u001b[0m \u001b[0;32min\u001b[0m \u001b[0mself\u001b[0m\u001b[0;34m.\u001b[0m\u001b[0m_forward_hooks\u001b[0m\u001b[0;34m.\u001b[0m\u001b[0mvalues\u001b[0m\u001b[0;34m(\u001b[0m\u001b[0;34m)\u001b[0m\u001b[0;34m:\u001b[0m\u001b[0;34m\u001b[0m\u001b[0;34m\u001b[0m\u001b[0m\n\u001b[1;32m    534\u001b[0m             \u001b[0mhook_result\u001b[0m \u001b[0;34m=\u001b[0m \u001b[0mhook\u001b[0m\u001b[0;34m(\u001b[0m\u001b[0mself\u001b[0m\u001b[0;34m,\u001b[0m \u001b[0minput\u001b[0m\u001b[0;34m,\u001b[0m \u001b[0mresult\u001b[0m\u001b[0;34m)\u001b[0m\u001b[0;34m\u001b[0m\u001b[0;34m\u001b[0m\u001b[0m\n",
      "\u001b[0;32m~/Desktop/COMP5331_Project/model/transformer.py\u001b[0m in \u001b[0;36mforward\u001b[0;34m(self, x, mask)\u001b[0m\n\u001b[1;32m     87\u001b[0m         \u001b[0my\u001b[0m \u001b[0;34m=\u001b[0m \u001b[0mx\u001b[0m\u001b[0;34m\u001b[0m\u001b[0;34m\u001b[0m\u001b[0m\n\u001b[1;32m     88\u001b[0m         \u001b[0;32mfor\u001b[0m \u001b[0mlayer\u001b[0m \u001b[0;32min\u001b[0m \u001b[0mself\u001b[0m\u001b[0;34m.\u001b[0m\u001b[0mlayers\u001b[0m\u001b[0;34m:\u001b[0m\u001b[0;34m\u001b[0m\u001b[0;34m\u001b[0m\u001b[0m\n\u001b[0;32m---> 89\u001b[0;31m             \u001b[0my\u001b[0m \u001b[0;34m=\u001b[0m \u001b[0mlayer\u001b[0m\u001b[0;34m(\u001b[0m\u001b[0my\u001b[0m\u001b[0;34m,\u001b[0m \u001b[0mmask\u001b[0m\u001b[0;34m)\u001b[0m\u001b[0;34m\u001b[0m\u001b[0;34m\u001b[0m\u001b[0m\n\u001b[0m\u001b[1;32m     90\u001b[0m         \u001b[0;32mreturn\u001b[0m \u001b[0mself\u001b[0m\u001b[0;34m.\u001b[0m\u001b[0mnorm\u001b[0m\u001b[0;34m(\u001b[0m\u001b[0my\u001b[0m\u001b[0;34m)\u001b[0m\u001b[0;34m\u001b[0m\u001b[0;34m\u001b[0m\u001b[0m\n\u001b[1;32m     91\u001b[0m \u001b[0;34m\u001b[0m\u001b[0m\n",
      "\u001b[0;32m~/opt/anaconda3/lib/python3.7/site-packages/torch/nn/modules/module.py\u001b[0m in \u001b[0;36m__call__\u001b[0;34m(self, *input, **kwargs)\u001b[0m\n\u001b[1;32m    530\u001b[0m             \u001b[0mresult\u001b[0m \u001b[0;34m=\u001b[0m \u001b[0mself\u001b[0m\u001b[0;34m.\u001b[0m\u001b[0m_slow_forward\u001b[0m\u001b[0;34m(\u001b[0m\u001b[0;34m*\u001b[0m\u001b[0minput\u001b[0m\u001b[0;34m,\u001b[0m \u001b[0;34m**\u001b[0m\u001b[0mkwargs\u001b[0m\u001b[0;34m)\u001b[0m\u001b[0;34m\u001b[0m\u001b[0;34m\u001b[0m\u001b[0m\n\u001b[1;32m    531\u001b[0m         \u001b[0;32melse\u001b[0m\u001b[0;34m:\u001b[0m\u001b[0;34m\u001b[0m\u001b[0;34m\u001b[0m\u001b[0m\n\u001b[0;32m--> 532\u001b[0;31m             \u001b[0mresult\u001b[0m \u001b[0;34m=\u001b[0m \u001b[0mself\u001b[0m\u001b[0;34m.\u001b[0m\u001b[0mforward\u001b[0m\u001b[0;34m(\u001b[0m\u001b[0;34m*\u001b[0m\u001b[0minput\u001b[0m\u001b[0;34m,\u001b[0m \u001b[0;34m**\u001b[0m\u001b[0mkwargs\u001b[0m\u001b[0;34m)\u001b[0m\u001b[0;34m\u001b[0m\u001b[0;34m\u001b[0m\u001b[0m\n\u001b[0m\u001b[1;32m    533\u001b[0m         \u001b[0;32mfor\u001b[0m \u001b[0mhook\u001b[0m \u001b[0;32min\u001b[0m \u001b[0mself\u001b[0m\u001b[0;34m.\u001b[0m\u001b[0m_forward_hooks\u001b[0m\u001b[0;34m.\u001b[0m\u001b[0mvalues\u001b[0m\u001b[0;34m(\u001b[0m\u001b[0;34m)\u001b[0m\u001b[0;34m:\u001b[0m\u001b[0;34m\u001b[0m\u001b[0;34m\u001b[0m\u001b[0m\n\u001b[1;32m    534\u001b[0m             \u001b[0mhook_result\u001b[0m \u001b[0;34m=\u001b[0m \u001b[0mhook\u001b[0m\u001b[0;34m(\u001b[0m\u001b[0mself\u001b[0m\u001b[0;34m,\u001b[0m \u001b[0minput\u001b[0m\u001b[0;34m,\u001b[0m \u001b[0mresult\u001b[0m\u001b[0;34m)\u001b[0m\u001b[0;34m\u001b[0m\u001b[0;34m\u001b[0m\u001b[0m\n",
      "\u001b[0;32m~/Desktop/COMP5331_Project/model/transformer.py\u001b[0m in \u001b[0;36mforward\u001b[0;34m(self, x, mask)\u001b[0m\n\u001b[1;32m    112\u001b[0m \u001b[0;34m\u001b[0m\u001b[0m\n\u001b[1;32m    113\u001b[0m     \u001b[0;32mdef\u001b[0m \u001b[0mforward\u001b[0m\u001b[0;34m(\u001b[0m\u001b[0mself\u001b[0m\u001b[0;34m,\u001b[0m \u001b[0mx\u001b[0m\u001b[0;34m,\u001b[0m \u001b[0mmask\u001b[0m\u001b[0;34m)\u001b[0m\u001b[0;34m:\u001b[0m\u001b[0;34m\u001b[0m\u001b[0;34m\u001b[0m\u001b[0m\n\u001b[0;32m--> 114\u001b[0;31m         \u001b[0mx\u001b[0m \u001b[0;34m=\u001b[0m \u001b[0mself\u001b[0m\u001b[0;34m.\u001b[0m\u001b[0msublayer\u001b[0m\u001b[0;34m[\u001b[0m\u001b[0;36m0\u001b[0m\u001b[0;34m]\u001b[0m\u001b[0;34m(\u001b[0m\u001b[0mx\u001b[0m\u001b[0;34m,\u001b[0m \u001b[0;32mlambda\u001b[0m \u001b[0mx\u001b[0m\u001b[0;34m:\u001b[0m \u001b[0mself\u001b[0m\u001b[0;34m.\u001b[0m\u001b[0mself_attn\u001b[0m\u001b[0;34m(\u001b[0m\u001b[0mx\u001b[0m\u001b[0;34m,\u001b[0m \u001b[0mx\u001b[0m\u001b[0;34m,\u001b[0m \u001b[0mx\u001b[0m\u001b[0;34m,\u001b[0m \u001b[0mmask\u001b[0m\u001b[0;34m)\u001b[0m\u001b[0;34m)\u001b[0m\u001b[0;34m\u001b[0m\u001b[0;34m\u001b[0m\u001b[0m\n\u001b[0m\u001b[1;32m    115\u001b[0m         \u001b[0;32mreturn\u001b[0m \u001b[0mself\u001b[0m\u001b[0;34m.\u001b[0m\u001b[0msublayer\u001b[0m\u001b[0;34m[\u001b[0m\u001b[0;36m1\u001b[0m\u001b[0;34m]\u001b[0m\u001b[0;34m(\u001b[0m\u001b[0mx\u001b[0m\u001b[0;34m,\u001b[0m \u001b[0mself\u001b[0m\u001b[0;34m.\u001b[0m\u001b[0mpw_ffn\u001b[0m\u001b[0;34m)\u001b[0m\u001b[0;34m\u001b[0m\u001b[0;34m\u001b[0m\u001b[0m\n\u001b[1;32m    116\u001b[0m \u001b[0;34m\u001b[0m\u001b[0m\n",
      "\u001b[0;32m~/opt/anaconda3/lib/python3.7/site-packages/torch/nn/modules/module.py\u001b[0m in \u001b[0;36m__call__\u001b[0;34m(self, *input, **kwargs)\u001b[0m\n\u001b[1;32m    530\u001b[0m             \u001b[0mresult\u001b[0m \u001b[0;34m=\u001b[0m \u001b[0mself\u001b[0m\u001b[0;34m.\u001b[0m\u001b[0m_slow_forward\u001b[0m\u001b[0;34m(\u001b[0m\u001b[0;34m*\u001b[0m\u001b[0minput\u001b[0m\u001b[0;34m,\u001b[0m \u001b[0;34m**\u001b[0m\u001b[0mkwargs\u001b[0m\u001b[0;34m)\u001b[0m\u001b[0;34m\u001b[0m\u001b[0;34m\u001b[0m\u001b[0m\n\u001b[1;32m    531\u001b[0m         \u001b[0;32melse\u001b[0m\u001b[0;34m:\u001b[0m\u001b[0;34m\u001b[0m\u001b[0;34m\u001b[0m\u001b[0m\n\u001b[0;32m--> 532\u001b[0;31m             \u001b[0mresult\u001b[0m \u001b[0;34m=\u001b[0m \u001b[0mself\u001b[0m\u001b[0;34m.\u001b[0m\u001b[0mforward\u001b[0m\u001b[0;34m(\u001b[0m\u001b[0;34m*\u001b[0m\u001b[0minput\u001b[0m\u001b[0;34m,\u001b[0m \u001b[0;34m**\u001b[0m\u001b[0mkwargs\u001b[0m\u001b[0;34m)\u001b[0m\u001b[0;34m\u001b[0m\u001b[0;34m\u001b[0m\u001b[0m\n\u001b[0m\u001b[1;32m    533\u001b[0m         \u001b[0;32mfor\u001b[0m \u001b[0mhook\u001b[0m \u001b[0;32min\u001b[0m \u001b[0mself\u001b[0m\u001b[0;34m.\u001b[0m\u001b[0m_forward_hooks\u001b[0m\u001b[0;34m.\u001b[0m\u001b[0mvalues\u001b[0m\u001b[0;34m(\u001b[0m\u001b[0;34m)\u001b[0m\u001b[0;34m:\u001b[0m\u001b[0;34m\u001b[0m\u001b[0;34m\u001b[0m\u001b[0m\n\u001b[1;32m    534\u001b[0m             \u001b[0mhook_result\u001b[0m \u001b[0;34m=\u001b[0m \u001b[0mhook\u001b[0m\u001b[0;34m(\u001b[0m\u001b[0mself\u001b[0m\u001b[0;34m,\u001b[0m \u001b[0minput\u001b[0m\u001b[0;34m,\u001b[0m \u001b[0mresult\u001b[0m\u001b[0;34m)\u001b[0m\u001b[0;34m\u001b[0m\u001b[0;34m\u001b[0m\u001b[0m\n",
      "\u001b[0;32m~/Desktop/COMP5331_Project/model/transformer.py\u001b[0m in \u001b[0;36mforward\u001b[0;34m(self, x, sublayer)\u001b[0m\n\u001b[1;32m    213\u001b[0m \u001b[0;34m\u001b[0m\u001b[0m\n\u001b[1;32m    214\u001b[0m     \u001b[0;32mdef\u001b[0m \u001b[0mforward\u001b[0m\u001b[0;34m(\u001b[0m\u001b[0mself\u001b[0m\u001b[0;34m,\u001b[0m \u001b[0mx\u001b[0m\u001b[0;34m,\u001b[0m \u001b[0msublayer\u001b[0m\u001b[0;34m)\u001b[0m\u001b[0;34m:\u001b[0m\u001b[0;34m\u001b[0m\u001b[0;34m\u001b[0m\u001b[0m\n\u001b[0;32m--> 215\u001b[0;31m         \u001b[0my\u001b[0m \u001b[0;34m=\u001b[0m \u001b[0msublayer\u001b[0m\u001b[0;34m(\u001b[0m\u001b[0mself\u001b[0m\u001b[0;34m.\u001b[0m\u001b[0mlayer_norm\u001b[0m\u001b[0;34m(\u001b[0m\u001b[0mx\u001b[0m\u001b[0;34m)\u001b[0m\u001b[0;34m)\u001b[0m\u001b[0;34m\u001b[0m\u001b[0;34m\u001b[0m\u001b[0m\n\u001b[0m\u001b[1;32m    216\u001b[0m         \u001b[0;32mreturn\u001b[0m \u001b[0mx\u001b[0m \u001b[0;34m+\u001b[0m \u001b[0mself\u001b[0m\u001b[0;34m.\u001b[0m\u001b[0mdropout\u001b[0m\u001b[0;34m(\u001b[0m\u001b[0my\u001b[0m\u001b[0;34m)\u001b[0m\u001b[0;34m\u001b[0m\u001b[0;34m\u001b[0m\u001b[0m\n\u001b[1;32m    217\u001b[0m \u001b[0;34m\u001b[0m\u001b[0m\n",
      "\u001b[0;32m~/Desktop/COMP5331_Project/model/transformer.py\u001b[0m in \u001b[0;36m<lambda>\u001b[0;34m(x)\u001b[0m\n\u001b[1;32m    112\u001b[0m \u001b[0;34m\u001b[0m\u001b[0m\n\u001b[1;32m    113\u001b[0m     \u001b[0;32mdef\u001b[0m \u001b[0mforward\u001b[0m\u001b[0;34m(\u001b[0m\u001b[0mself\u001b[0m\u001b[0;34m,\u001b[0m \u001b[0mx\u001b[0m\u001b[0;34m,\u001b[0m \u001b[0mmask\u001b[0m\u001b[0;34m)\u001b[0m\u001b[0;34m:\u001b[0m\u001b[0;34m\u001b[0m\u001b[0;34m\u001b[0m\u001b[0m\n\u001b[0;32m--> 114\u001b[0;31m         \u001b[0mx\u001b[0m \u001b[0;34m=\u001b[0m \u001b[0mself\u001b[0m\u001b[0;34m.\u001b[0m\u001b[0msublayer\u001b[0m\u001b[0;34m[\u001b[0m\u001b[0;36m0\u001b[0m\u001b[0;34m]\u001b[0m\u001b[0;34m(\u001b[0m\u001b[0mx\u001b[0m\u001b[0;34m,\u001b[0m \u001b[0;32mlambda\u001b[0m \u001b[0mx\u001b[0m\u001b[0;34m:\u001b[0m \u001b[0mself\u001b[0m\u001b[0;34m.\u001b[0m\u001b[0mself_attn\u001b[0m\u001b[0;34m(\u001b[0m\u001b[0mx\u001b[0m\u001b[0;34m,\u001b[0m \u001b[0mx\u001b[0m\u001b[0;34m,\u001b[0m \u001b[0mx\u001b[0m\u001b[0;34m,\u001b[0m \u001b[0mmask\u001b[0m\u001b[0;34m)\u001b[0m\u001b[0;34m)\u001b[0m\u001b[0;34m\u001b[0m\u001b[0;34m\u001b[0m\u001b[0m\n\u001b[0m\u001b[1;32m    115\u001b[0m         \u001b[0;32mreturn\u001b[0m \u001b[0mself\u001b[0m\u001b[0;34m.\u001b[0m\u001b[0msublayer\u001b[0m\u001b[0;34m[\u001b[0m\u001b[0;36m1\u001b[0m\u001b[0;34m]\u001b[0m\u001b[0;34m(\u001b[0m\u001b[0mx\u001b[0m\u001b[0;34m,\u001b[0m \u001b[0mself\u001b[0m\u001b[0;34m.\u001b[0m\u001b[0mpw_ffn\u001b[0m\u001b[0;34m)\u001b[0m\u001b[0;34m\u001b[0m\u001b[0;34m\u001b[0m\u001b[0m\n\u001b[1;32m    116\u001b[0m \u001b[0;34m\u001b[0m\u001b[0m\n",
      "\u001b[0;32m~/opt/anaconda3/lib/python3.7/site-packages/torch/nn/modules/module.py\u001b[0m in \u001b[0;36m__call__\u001b[0;34m(self, *input, **kwargs)\u001b[0m\n\u001b[1;32m    530\u001b[0m             \u001b[0mresult\u001b[0m \u001b[0;34m=\u001b[0m \u001b[0mself\u001b[0m\u001b[0;34m.\u001b[0m\u001b[0m_slow_forward\u001b[0m\u001b[0;34m(\u001b[0m\u001b[0;34m*\u001b[0m\u001b[0minput\u001b[0m\u001b[0;34m,\u001b[0m \u001b[0;34m**\u001b[0m\u001b[0mkwargs\u001b[0m\u001b[0;34m)\u001b[0m\u001b[0;34m\u001b[0m\u001b[0;34m\u001b[0m\u001b[0m\n\u001b[1;32m    531\u001b[0m         \u001b[0;32melse\u001b[0m\u001b[0;34m:\u001b[0m\u001b[0;34m\u001b[0m\u001b[0;34m\u001b[0m\u001b[0m\n\u001b[0;32m--> 532\u001b[0;31m             \u001b[0mresult\u001b[0m \u001b[0;34m=\u001b[0m \u001b[0mself\u001b[0m\u001b[0;34m.\u001b[0m\u001b[0mforward\u001b[0m\u001b[0;34m(\u001b[0m\u001b[0;34m*\u001b[0m\u001b[0minput\u001b[0m\u001b[0;34m,\u001b[0m \u001b[0;34m**\u001b[0m\u001b[0mkwargs\u001b[0m\u001b[0;34m)\u001b[0m\u001b[0;34m\u001b[0m\u001b[0;34m\u001b[0m\u001b[0m\n\u001b[0m\u001b[1;32m    533\u001b[0m         \u001b[0;32mfor\u001b[0m \u001b[0mhook\u001b[0m \u001b[0;32min\u001b[0m \u001b[0mself\u001b[0m\u001b[0;34m.\u001b[0m\u001b[0m_forward_hooks\u001b[0m\u001b[0;34m.\u001b[0m\u001b[0mvalues\u001b[0m\u001b[0;34m(\u001b[0m\u001b[0;34m)\u001b[0m\u001b[0;34m:\u001b[0m\u001b[0;34m\u001b[0m\u001b[0;34m\u001b[0m\u001b[0m\n\u001b[1;32m    534\u001b[0m             \u001b[0mhook_result\u001b[0m \u001b[0;34m=\u001b[0m \u001b[0mhook\u001b[0m\u001b[0;34m(\u001b[0m\u001b[0mself\u001b[0m\u001b[0;34m,\u001b[0m \u001b[0minput\u001b[0m\u001b[0;34m,\u001b[0m \u001b[0mresult\u001b[0m\u001b[0;34m)\u001b[0m\u001b[0;34m\u001b[0m\u001b[0;34m\u001b[0m\u001b[0m\n",
      "\u001b[0;32m~/Desktop/COMP5331_Project/model/transformer.py\u001b[0m in \u001b[0;36mforward\u001b[0;34m(self, query, key, value, mask, relat_attn)\u001b[0m\n\u001b[1;32m    159\u001b[0m \u001b[0;34m\u001b[0m\u001b[0m\n\u001b[1;32m    160\u001b[0m \u001b[0;34m\u001b[0m\u001b[0m\n\u001b[0;32m--> 161\u001b[0;31m         \u001b[0mcontext_query\u001b[0m \u001b[0;34m=\u001b[0m \u001b[0mContextAttention\u001b[0m\u001b[0;34m(\u001b[0m\u001b[0mquery\u001b[0m\u001b[0;34m,\u001b[0m \u001b[0mself\u001b[0m\u001b[0;34m.\u001b[0m\u001b[0mcontext_len\u001b[0m\u001b[0;34m)\u001b[0m\u001b[0;34m.\u001b[0m\u001b[0mcontiguous\u001b[0m\u001b[0;34m(\u001b[0m\u001b[0;34m)\u001b[0m\u001b[0;34m.\u001b[0m\u001b[0mview\u001b[0m\u001b[0;34m(\u001b[0m\u001b[0mb\u001b[0m\u001b[0;34m,\u001b[0m \u001b[0mm\u001b[0m\u001b[0;34m,\u001b[0m \u001b[0mt_q\u001b[0m\u001b[0;34m,\u001b[0m \u001b[0mself\u001b[0m\u001b[0;34m.\u001b[0m\u001b[0mh\u001b[0m\u001b[0;34m,\u001b[0m \u001b[0mself\u001b[0m\u001b[0;34m.\u001b[0m\u001b[0md_k\u001b[0m\u001b[0;34m)\u001b[0m\u001b[0;34m.\u001b[0m\u001b[0mtranspose\u001b[0m\u001b[0;34m(\u001b[0m\u001b[0;36m2\u001b[0m\u001b[0;34m,\u001b[0m \u001b[0;36m3\u001b[0m\u001b[0;34m)\u001b[0m \u001b[0;31m#b, m, t, d_model\u001b[0m\u001b[0;34m\u001b[0m\u001b[0;34m\u001b[0m\u001b[0m\n\u001b[0m\u001b[1;32m    162\u001b[0m         \u001b[0mcontext_key\u001b[0m \u001b[0;34m=\u001b[0m \u001b[0mContextAttention\u001b[0m\u001b[0;34m(\u001b[0m\u001b[0mkey\u001b[0m\u001b[0;34m,\u001b[0m \u001b[0mself\u001b[0m\u001b[0;34m.\u001b[0m\u001b[0mcontext_len\u001b[0m\u001b[0;34m)\u001b[0m\u001b[0;34m.\u001b[0m\u001b[0mcontiguous\u001b[0m\u001b[0;34m(\u001b[0m\u001b[0;34m)\u001b[0m\u001b[0;34m.\u001b[0m\u001b[0mview\u001b[0m\u001b[0;34m(\u001b[0m\u001b[0mb\u001b[0m\u001b[0;34m,\u001b[0m \u001b[0mm\u001b[0m\u001b[0;34m,\u001b[0m \u001b[0mt_v\u001b[0m\u001b[0;34m,\u001b[0m \u001b[0mself\u001b[0m\u001b[0;34m.\u001b[0m\u001b[0mh\u001b[0m\u001b[0;34m,\u001b[0m \u001b[0mself\u001b[0m\u001b[0;34m.\u001b[0m\u001b[0md_k\u001b[0m\u001b[0;34m)\u001b[0m\u001b[0;34m.\u001b[0m\u001b[0mtranspose\u001b[0m\u001b[0;34m(\u001b[0m\u001b[0;36m2\u001b[0m\u001b[0;34m,\u001b[0m \u001b[0;36m3\u001b[0m\u001b[0;34m)\u001b[0m \u001b[0;31m#b, m, t, d_model\u001b[0m\u001b[0;34m\u001b[0m\u001b[0;34m\u001b[0m\u001b[0m\n\u001b[1;32m    163\u001b[0m         \u001b[0mvalue\u001b[0m \u001b[0;34m=\u001b[0m \u001b[0mvalue\u001b[0m\u001b[0;34m.\u001b[0m\u001b[0mcontiguous\u001b[0m\u001b[0;34m(\u001b[0m\u001b[0;34m)\u001b[0m\u001b[0;34m.\u001b[0m\u001b[0mview\u001b[0m\u001b[0;34m(\u001b[0m\u001b[0mb\u001b[0m\u001b[0;34m,\u001b[0m \u001b[0mm\u001b[0m\u001b[0;34m,\u001b[0m \u001b[0mt_v\u001b[0m\u001b[0;34m,\u001b[0m \u001b[0mself\u001b[0m\u001b[0;34m.\u001b[0m\u001b[0mh\u001b[0m\u001b[0;34m,\u001b[0m \u001b[0mself\u001b[0m\u001b[0;34m.\u001b[0m\u001b[0md_k\u001b[0m\u001b[0;34m)\u001b[0m\u001b[0;34m.\u001b[0m\u001b[0mtranspose\u001b[0m\u001b[0;34m(\u001b[0m\u001b[0;36m2\u001b[0m\u001b[0;34m,\u001b[0m \u001b[0;36m3\u001b[0m\u001b[0;34m)\u001b[0m \u001b[0;31m#b, m, t, d_model\u001b[0m\u001b[0;34m\u001b[0m\u001b[0;34m\u001b[0m\u001b[0m\n",
      "\u001b[0;32m~/Desktop/COMP5331_Project/model/transformer.py\u001b[0m in \u001b[0;36mContextAttention\u001b[0;34m(x, context_length)\u001b[0m\n\u001b[1;32m    178\u001b[0m \u001b[0;34m\u001b[0m\u001b[0m\n\u001b[1;32m    179\u001b[0m     \u001b[0mb\u001b[0m\u001b[0;34m,\u001b[0m \u001b[0mm\u001b[0m\u001b[0;34m,\u001b[0m \u001b[0mt\u001b[0m\u001b[0;34m,\u001b[0m \u001b[0md_model\u001b[0m \u001b[0;34m=\u001b[0m \u001b[0mx\u001b[0m\u001b[0;34m.\u001b[0m\u001b[0msize\u001b[0m\u001b[0;34m(\u001b[0m\u001b[0;34m)\u001b[0m\u001b[0;34m\u001b[0m\u001b[0;34m\u001b[0m\u001b[0m\n\u001b[0;32m--> 180\u001b[0;31m     \u001b[0mpadding_x\u001b[0m \u001b[0;34m=\u001b[0m \u001b[0mtorch\u001b[0m\u001b[0;34m.\u001b[0m\u001b[0mzeros\u001b[0m\u001b[0;34m(\u001b[0m\u001b[0;34m(\u001b[0m\u001b[0mb\u001b[0m\u001b[0;34m,\u001b[0m \u001b[0mm\u001b[0m\u001b[0;34m,\u001b[0m \u001b[0mcontext_length\u001b[0m\u001b[0;34m-\u001b[0m\u001b[0;36m1\u001b[0m\u001b[0;34m,\u001b[0m \u001b[0md_model\u001b[0m\u001b[0;34m)\u001b[0m\u001b[0;34m)\u001b[0m\u001b[0;34m.\u001b[0m\u001b[0mcuda\u001b[0m\u001b[0;34m(\u001b[0m\u001b[0;34m)\u001b[0m\u001b[0;34m\u001b[0m\u001b[0;34m\u001b[0m\u001b[0m\n\u001b[0m\u001b[1;32m    181\u001b[0m     \u001b[0mx\u001b[0m \u001b[0;34m=\u001b[0m \u001b[0mtorch\u001b[0m\u001b[0;34m.\u001b[0m\u001b[0mcat\u001b[0m\u001b[0;34m(\u001b[0m\u001b[0;34m[\u001b[0m\u001b[0mpadding_x\u001b[0m\u001b[0;34m,\u001b[0m \u001b[0mx\u001b[0m\u001b[0;34m]\u001b[0m\u001b[0;34m,\u001b[0m \u001b[0;36m2\u001b[0m\u001b[0;34m)\u001b[0m\u001b[0;34m\u001b[0m\u001b[0;34m\u001b[0m\u001b[0m\n\u001b[1;32m    182\u001b[0m \u001b[0;34m\u001b[0m\u001b[0m\n",
      "\u001b[0;32m~/opt/anaconda3/lib/python3.7/site-packages/torch/cuda/__init__.py\u001b[0m in \u001b[0;36m_lazy_init\u001b[0;34m()\u001b[0m\n\u001b[1;32m    194\u001b[0m             raise RuntimeError(\n\u001b[1;32m    195\u001b[0m                 \"Cannot re-initialize CUDA in forked subprocess. \" + msg)\n\u001b[0;32m--> 196\u001b[0;31m         \u001b[0m_check_driver\u001b[0m\u001b[0;34m(\u001b[0m\u001b[0;34m)\u001b[0m\u001b[0;34m\u001b[0m\u001b[0;34m\u001b[0m\u001b[0m\n\u001b[0m\u001b[1;32m    197\u001b[0m         \u001b[0mtorch\u001b[0m\u001b[0;34m.\u001b[0m\u001b[0m_C\u001b[0m\u001b[0;34m.\u001b[0m\u001b[0m_cuda_init\u001b[0m\u001b[0;34m(\u001b[0m\u001b[0;34m)\u001b[0m\u001b[0;34m\u001b[0m\u001b[0;34m\u001b[0m\u001b[0m\n\u001b[1;32m    198\u001b[0m         \u001b[0m_cudart\u001b[0m \u001b[0;34m=\u001b[0m \u001b[0m_load_cudart\u001b[0m\u001b[0;34m(\u001b[0m\u001b[0;34m)\u001b[0m\u001b[0;34m\u001b[0m\u001b[0;34m\u001b[0m\u001b[0m\n",
      "\u001b[0;32m~/opt/anaconda3/lib/python3.7/site-packages/torch/cuda/__init__.py\u001b[0m in \u001b[0;36m_check_driver\u001b[0;34m()\u001b[0m\n\u001b[1;32m     92\u001b[0m \u001b[0;32mdef\u001b[0m \u001b[0m_check_driver\u001b[0m\u001b[0;34m(\u001b[0m\u001b[0;34m)\u001b[0m\u001b[0;34m:\u001b[0m\u001b[0;34m\u001b[0m\u001b[0;34m\u001b[0m\u001b[0m\n\u001b[1;32m     93\u001b[0m     \u001b[0;32mif\u001b[0m \u001b[0;32mnot\u001b[0m \u001b[0mhasattr\u001b[0m\u001b[0;34m(\u001b[0m\u001b[0mtorch\u001b[0m\u001b[0;34m.\u001b[0m\u001b[0m_C\u001b[0m\u001b[0;34m,\u001b[0m \u001b[0;34m'_cuda_isDriverSufficient'\u001b[0m\u001b[0;34m)\u001b[0m\u001b[0;34m:\u001b[0m\u001b[0;34m\u001b[0m\u001b[0;34m\u001b[0m\u001b[0m\n\u001b[0;32m---> 94\u001b[0;31m         \u001b[0;32mraise\u001b[0m \u001b[0mAssertionError\u001b[0m\u001b[0;34m(\u001b[0m\u001b[0;34m\"Torch not compiled with CUDA enabled\"\u001b[0m\u001b[0;34m)\u001b[0m\u001b[0;34m\u001b[0m\u001b[0;34m\u001b[0m\u001b[0m\n\u001b[0m\u001b[1;32m     95\u001b[0m     \u001b[0;32mif\u001b[0m \u001b[0;32mnot\u001b[0m \u001b[0mtorch\u001b[0m\u001b[0;34m.\u001b[0m\u001b[0m_C\u001b[0m\u001b[0;34m.\u001b[0m\u001b[0m_cuda_isDriverSufficient\u001b[0m\u001b[0;34m(\u001b[0m\u001b[0;34m)\u001b[0m\u001b[0;34m:\u001b[0m\u001b[0;34m\u001b[0m\u001b[0;34m\u001b[0m\u001b[0m\n\u001b[1;32m     96\u001b[0m         \u001b[0;32mif\u001b[0m \u001b[0mtorch\u001b[0m\u001b[0;34m.\u001b[0m\u001b[0m_C\u001b[0m\u001b[0;34m.\u001b[0m\u001b[0m_cuda_getDriverVersion\u001b[0m\u001b[0;34m(\u001b[0m\u001b[0;34m)\u001b[0m \u001b[0;34m==\u001b[0m \u001b[0;36m0\u001b[0m\u001b[0;34m:\u001b[0m\u001b[0;34m\u001b[0m\u001b[0;34m\u001b[0m\u001b[0m\n",
      "\u001b[0;31mAssertionError\u001b[0m: Torch not compiled with CUDA enabled"
     ]
    }
   ],
   "source": [
    "modelInstance = RATransformer(1, k, 4, 12, 2, l)\n",
    "optimizer = optim.Adam(modelInstance.parameters(),lr=1e-2)\n",
    "for _ in range(numEpisodes):\n",
    "    randomSubsets = [random.sample(range(numTickers), numStocksInSubset) for _ in range(numBatches)]\n",
    "    ys = [stockInflations[k:] for stockInflations in inflations[randomSubsets]] # shape: (numDates-1: T-1, numStocks: m)\n",
    "    actions = [np.zeros(4)]\n",
    "    for i in range(numDates - k):\n",
    "        print(i)\n",
    "        encInput = [[priceSeries[i:i+k] for priceSeries in entryArrays[randomSubset]] for randomSubset in randomSubsets] # shape: (numBatches, numStocksInSubset, priceSeriesLength: k, numFeatures)\n",
    "        encInput = torch.Tensor(encInput)\n",
    "        decInput = [[priceSeries[i+k-l:i+k] for priceSeries in entryArrays[randomSubset]] for randomSubset in randomSubsets] # shape: (numBatches, numStocksInSubset, localContextLength: l, numFeatures)\n",
    "        decInput = torch.Tensor(decInput)\n",
    "        actions.append(runModel(modelInstance, encInput, decInput, actions[-1]))\n",
    "    totalReward = getTotalReward(ys, actions)\n",
    "\n",
    "    optimizer.zero_grad()\n",
    "    totalReward.backward()\n",
    "    optimizer.step()"
   ]
  },
  {
   "cell_type": "code",
   "execution_count": null,
   "metadata": {},
   "outputs": [],
   "source": []
  }
 ]
}